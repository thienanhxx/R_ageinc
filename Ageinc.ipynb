{
 "cells": [
  {
   "cell_type": "code",
   "execution_count": 1,
   "id": "45ea62ae-e272-452c-b1ab-957423fb6a92",
   "metadata": {},
   "outputs": [],
   "source": [
    "# Đọc dữ liệu.\n",
    "data <- read.csv('Dataset/ageinc_g.csv')\n",
    "data <- data[,-1]"
   ]
  },
  {
   "cell_type": "code",
   "execution_count": 2,
   "id": "0f8a1508-8134-4f7f-b347-4156e084d8e1",
   "metadata": {},
   "outputs": [
    {
     "data": {
      "text/html": [
       "<table class=\"dataframe\">\n",
       "<caption>A data.frame: 6 × 3</caption>\n",
       "<thead>\n",
       "\t<tr><th></th><th scope=col>income</th><th scope=col>age</th><th scope=col>gender</th></tr>\n",
       "\t<tr><th></th><th scope=col>&lt;int&gt;</th><th scope=col>&lt;int&gt;</th><th scope=col>&lt;chr&gt;</th></tr>\n",
       "</thead>\n",
       "<tbody>\n",
       "\t<tr><th scope=row>1</th><td>101743</td><td>58</td><td>Female</td></tr>\n",
       "\t<tr><th scope=row>2</th><td> 49597</td><td>27</td><td>Female</td></tr>\n",
       "\t<tr><th scope=row>3</th><td> 36517</td><td>52</td><td>Male  </td></tr>\n",
       "\t<tr><th scope=row>4</th><td> 33223</td><td>49</td><td>Male  </td></tr>\n",
       "\t<tr><th scope=row>5</th><td> 72994</td><td>53</td><td>Female</td></tr>\n",
       "\t<tr><th scope=row>6</th><td> 38361</td><td>26</td><td>Female</td></tr>\n",
       "</tbody>\n",
       "</table>\n"
      ],
      "text/latex": [
       "A data.frame: 6 × 3\n",
       "\\begin{tabular}{r|lll}\n",
       "  & income & age & gender\\\\\n",
       "  & <int> & <int> & <chr>\\\\\n",
       "\\hline\n",
       "\t1 & 101743 & 58 & Female\\\\\n",
       "\t2 &  49597 & 27 & Female\\\\\n",
       "\t3 &  36517 & 52 & Male  \\\\\n",
       "\t4 &  33223 & 49 & Male  \\\\\n",
       "\t5 &  72994 & 53 & Female\\\\\n",
       "\t6 &  38361 & 26 & Female\\\\\n",
       "\\end{tabular}\n"
      ],
      "text/markdown": [
       "\n",
       "A data.frame: 6 × 3\n",
       "\n",
       "| <!--/--> | income &lt;int&gt; | age &lt;int&gt; | gender &lt;chr&gt; |\n",
       "|---|---|---|---|\n",
       "| 1 | 101743 | 58 | Female |\n",
       "| 2 |  49597 | 27 | Female |\n",
       "| 3 |  36517 | 52 | Male   |\n",
       "| 4 |  33223 | 49 | Male   |\n",
       "| 5 |  72994 | 53 | Female |\n",
       "| 6 |  38361 | 26 | Female |\n",
       "\n"
      ],
      "text/plain": [
       "  income age gender\n",
       "1 101743 58  Female\n",
       "2  49597 27  Female\n",
       "3  36517 52  Male  \n",
       "4  33223 49  Male  \n",
       "5  72994 53  Female\n",
       "6  38361 26  Female"
      ]
     },
     "metadata": {},
     "output_type": "display_data"
    }
   ],
   "source": [
    "# In thông tin dữ liệu: head(), số dòng, số cột, summary().\n",
    "head(data)"
   ]
  },
  {
   "cell_type": "code",
   "execution_count": 3,
   "id": "af114065-8440-4463-927a-3170cfd2ad32",
   "metadata": {},
   "outputs": [
    {
     "data": {
      "text/html": [
       "<table class=\"dataframe\">\n",
       "<caption>A data.frame: 6 × 3</caption>\n",
       "<thead>\n",
       "\t<tr><th></th><th scope=col>income</th><th scope=col>age</th><th scope=col>gender</th></tr>\n",
       "\t<tr><th></th><th scope=col>&lt;int&gt;</th><th scope=col>&lt;int&gt;</th><th scope=col>&lt;chr&gt;</th></tr>\n",
       "</thead>\n",
       "<tbody>\n",
       "\t<tr><th scope=row>995</th><td> 44937</td><td>54</td><td>Female</td></tr>\n",
       "\t<tr><th scope=row>996</th><td> 70615</td><td>29</td><td>Female</td></tr>\n",
       "\t<tr><th scope=row>997</th><td> 95102</td><td>41</td><td>Female</td></tr>\n",
       "\t<tr><th scope=row>998</th><td> 42203</td><td>35</td><td>Male  </td></tr>\n",
       "\t<tr><th scope=row>999</th><td> 16975</td><td>31</td><td>Female</td></tr>\n",
       "\t<tr><th scope=row>1000</th><td>123857</td><td>44</td><td>Male  </td></tr>\n",
       "</tbody>\n",
       "</table>\n"
      ],
      "text/latex": [
       "A data.frame: 6 × 3\n",
       "\\begin{tabular}{r|lll}\n",
       "  & income & age & gender\\\\\n",
       "  & <int> & <int> & <chr>\\\\\n",
       "\\hline\n",
       "\t995 &  44937 & 54 & Female\\\\\n",
       "\t996 &  70615 & 29 & Female\\\\\n",
       "\t997 &  95102 & 41 & Female\\\\\n",
       "\t998 &  42203 & 35 & Male  \\\\\n",
       "\t999 &  16975 & 31 & Female\\\\\n",
       "\t1000 & 123857 & 44 & Male  \\\\\n",
       "\\end{tabular}\n"
      ],
      "text/markdown": [
       "\n",
       "A data.frame: 6 × 3\n",
       "\n",
       "| <!--/--> | income &lt;int&gt; | age &lt;int&gt; | gender &lt;chr&gt; |\n",
       "|---|---|---|---|\n",
       "| 995 |  44937 | 54 | Female |\n",
       "| 996 |  70615 | 29 | Female |\n",
       "| 997 |  95102 | 41 | Female |\n",
       "| 998 |  42203 | 35 | Male   |\n",
       "| 999 |  16975 | 31 | Female |\n",
       "| 1000 | 123857 | 44 | Male   |\n",
       "\n"
      ],
      "text/plain": [
       "     income age gender\n",
       "995   44937 54  Female\n",
       "996   70615 29  Female\n",
       "997   95102 41  Female\n",
       "998   42203 35  Male  \n",
       "999   16975 31  Female\n",
       "1000 123857 44  Male  "
      ]
     },
     "metadata": {},
     "output_type": "display_data"
    }
   ],
   "source": [
    "tail(data)"
   ]
  },
  {
   "cell_type": "code",
   "execution_count": 4,
   "id": "b6a0bd7a-aec8-4e49-b902-54e9301fdbc0",
   "metadata": {},
   "outputs": [
    {
     "name": "stdout",
     "output_type": "stream",
     "text": [
      "'data.frame':\t1000 obs. of  3 variables:\n",
      " $ income: int  101743 49597 36517 33223 72994 38361 48579 115248 11527 54096 ...\n",
      " $ age   : int  58 27 52 49 53 26 29 24 31 51 ...\n",
      " $ gender: chr  \"Female\" \"Female\" \"Male\" \"Male\" ...\n"
     ]
    }
   ],
   "source": [
    "str(data)"
   ]
  },
  {
   "cell_type": "code",
   "execution_count": 5,
   "id": "ab062cbe-93d4-46c2-80c4-87efdef32fa3",
   "metadata": {},
   "outputs": [
    {
     "data": {
      "text/plain": [
       "     income            age           gender         \n",
       " Min.   :     0   Min.   :18.00   Length:1000       \n",
       " 1st Qu.: 46402   1st Qu.:30.00   Class :character  \n",
       " Median : 78994   Median :39.00   Mode  :character  \n",
       " Mean   : 80117   Mean   :39.41                     \n",
       " 3rd Qu.:114811   3rd Qu.:49.00                     \n",
       " Max.   :179294   Max.   :63.00                     "
      ]
     },
     "metadata": {},
     "output_type": "display_data"
    }
   ],
   "source": [
    "summary(data)"
   ]
  },
  {
   "cell_type": "code",
   "execution_count": 6,
   "id": "d53e5acc-bcf1-4cc1-82ee-d3d41b4ac1bd",
   "metadata": {},
   "outputs": [
    {
     "name": "stdout",
     "output_type": "stream",
     "text": [
      "[1] \"cols: 3\"\n",
      "[1] \"rows: 1000\"\n"
     ]
    }
   ],
   "source": [
    "print(paste('cols:', ncol(data)))\n",
    "print(paste('rows:', nrow(data)))"
   ]
  },
  {
   "cell_type": "code",
   "execution_count": 7,
   "id": "5025a800-6d8a-4595-9f06-5eb1cc8ea84d",
   "metadata": {},
   "outputs": [
    {
     "data": {
      "text/html": [
       "FALSE"
      ],
      "text/latex": [
       "FALSE"
      ],
      "text/markdown": [
       "FALSE"
      ],
      "text/plain": [
       "[1] FALSE"
      ]
     },
     "metadata": {},
     "output_type": "display_data"
    }
   ],
   "source": [
    "any(is.na(data))"
   ]
  },
  {
   "cell_type": "markdown",
   "id": "52982c8a-bf04-451a-8c9f-8bdd5db53c9d",
   "metadata": {},
   "source": [
    "- any(is.na(data))"
   ]
  },
  {
   "cell_type": "code",
   "execution_count": 8,
   "id": "205e12fb-d2c3-4550-a27e-c12b018c8d7a",
   "metadata": {},
   "outputs": [
    {
     "name": "stderr",
     "output_type": "stream",
     "text": [
      "── \u001b[1mAttaching packages\u001b[22m ─────────────────────────────────────────────────────────────────────────────── tidyverse 1.3.2 ──\n",
      "\u001b[32m✔\u001b[39m \u001b[34mggplot2\u001b[39m 3.4.0      \u001b[32m✔\u001b[39m \u001b[34mpurrr  \u001b[39m 0.3.5 \n",
      "\u001b[32m✔\u001b[39m \u001b[34mtibble \u001b[39m 3.1.8      \u001b[32m✔\u001b[39m \u001b[34mdplyr  \u001b[39m 1.0.10\n",
      "\u001b[32m✔\u001b[39m \u001b[34mtidyr  \u001b[39m 1.2.1      \u001b[32m✔\u001b[39m \u001b[34mstringr\u001b[39m 1.4.1 \n",
      "\u001b[32m✔\u001b[39m \u001b[34mreadr  \u001b[39m 2.1.3      \u001b[32m✔\u001b[39m \u001b[34mforcats\u001b[39m 0.5.2 \n",
      "── \u001b[1mConflicts\u001b[22m ────────────────────────────────────────────────────────────────────────────────── tidyverse_conflicts() ──\n",
      "\u001b[31m✖\u001b[39m \u001b[34mdplyr\u001b[39m::\u001b[32mfilter()\u001b[39m masks \u001b[34mstats\u001b[39m::filter()\n",
      "\u001b[31m✖\u001b[39m \u001b[34mdplyr\u001b[39m::\u001b[32mlag()\u001b[39m    masks \u001b[34mstats\u001b[39m::lag()\n"
     ]
    }
   ],
   "source": [
    "library(tidyverse)"
   ]
  },
  {
   "cell_type": "code",
   "execution_count": 9,
   "id": "1cf7ea3e-c964-4fea-b090-491779b68f98",
   "metadata": {},
   "outputs": [
    {
     "data": {
      "image/png": "[encoded data removed]",
      "text/plain": [
       "Plot with title \"age\""
      ]
     },
     "metadata": {
      "image/png": {
       "height": 420,
       "width": 420
      }
     },
     "output_type": "display_data"
    }
   ],
   "source": [
    "# Kiểm tra và xử lý outliers\n",
    "par(mfrow = c(1,3)) # divide graph area in 3 columns\n",
    "boxplot(data$income, main = 'income')\n",
    "boxplot(data$age, main = 'age')"
   ]
  },
  {
   "cell_type": "markdown",
   "id": "a3ac9cde-7b4d-48d0-9fa7-aa12f0462123",
   "metadata": {},
   "source": [
    "- Nhận xét: dữ liệu không có giá trị outliers"
   ]
  },
  {
   "cell_type": "code",
   "execution_count": 10,
   "id": "01fd7f9f-6ddc-4b9c-b551-081ef32e1d3d",
   "metadata": {},
   "outputs": [
    {
     "name": "stderr",
     "output_type": "stream",
     "text": [
      "Welcome! Want to learn more? See two factoextra-related books at https://goo.gl/ve3WBa\n",
      "\n"
     ]
    }
   ],
   "source": [
    "library(clue)\n",
    "library(factoextra)"
   ]
  },
  {
   "cell_type": "code",
   "execution_count": 11,
   "id": "856c9694-9ab4-412a-86fe-3dcce9a391d8",
   "metadata": {},
   "outputs": [
    {
     "data": {
      "text/html": [
       "0.00433102632756161"
      ],
      "text/latex": [
       "0.00433102632756161"
      ],
      "text/markdown": [
       "0.00433102632756161"
      ],
      "text/plain": [
       "[1] 0.004331026"
      ]
     },
     "metadata": {},
     "output_type": "display_data"
    },
    {
     "data": {
      "image/png": "[encoded data removed]",
      "text/plain": [
       "Plot with title \"income vs age\""
      ]
     },
     "metadata": {
      "image/png": {
       "height": 420,
       "width": 420
      }
     },
     "output_type": "display_data"
    }
   ],
   "source": [
    "# Vẽ hình để xem xét mối liên hệ giữa các thuộc tính. Cho nhận xét dựa trên biểu đồ.\n",
    "cor(data$income, data$age)\n",
    "\n",
    "# Vẽ biểu đồ quan sát mối liên hệ giữa sales và youtube\n",
    "scatter.smooth(x=data$income, y = data$age,\n",
    "               main = 'income vs age')"
   ]
  },
  {
   "cell_type": "markdown",
   "id": "07a5b2ce-0e8d-472f-8ac4-0603bea95763",
   "metadata": {},
   "source": [
    "- Nhận xét: không có sự liên hệ giữa Age và Income"
   ]
  },
  {
   "cell_type": "code",
   "execution_count": 12,
   "id": "a973b7be-4d1e-42da-83c9-6e2e14f0144c",
   "metadata": {},
   "outputs": [],
   "source": [
    "# Xây dựng model từ dữ liệu income và age.\n",
    "wss <- (nrow(data)-1) * sum(apply(data[,1:2], 2, var))\n",
    "for (i in 1:10) wss[i] <- sum(kmeans(data[, 1:2],\n",
    "                                    centers = i,\n",
    "                                    nstart = 20)$withinss)"
   ]
  },
  {
   "cell_type": "code",
   "execution_count": 13,
   "id": "5569e4d3-bc15-461f-a9a5-00183bf46289",
   "metadata": {},
   "outputs": [
    {
     "data": {
      "text/html": [
       "<style>\n",
       ".list-inline {list-style: none; margin:0; padding: 0}\n",
       ".list-inline>li {display: inline-block}\n",
       ".list-inline>li:not(:last-child)::after {content: \"\\00b7\"; padding: 0 .5ex}\n",
       "</style>\n",
       "<ol class=list-inline><li>1539989591648.77</li><li>294951472941.966</li><li>182988581589.15</li><li>103584517060.298</li><li>73220544079.9399</li><li>51915631209.9373</li><li>39986348991.0125</li><li>29315907547.5549</li><li>23304564509.3112</li><li>19193582078.8646</li></ol>\n"
      ],
      "text/latex": [
       "\\begin{enumerate*}\n",
       "\\item 1539989591648.77\n",
       "\\item 294951472941.966\n",
       "\\item 182988581589.15\n",
       "\\item 103584517060.298\n",
       "\\item 73220544079.9399\n",
       "\\item 51915631209.9373\n",
       "\\item 39986348991.0125\n",
       "\\item 29315907547.5549\n",
       "\\item 23304564509.3112\n",
       "\\item 19193582078.8646\n",
       "\\end{enumerate*}\n"
      ],
      "text/markdown": [
       "1. 1539989591648.77\n",
       "2. 294951472941.966\n",
       "3. 182988581589.15\n",
       "4. 103584517060.298\n",
       "5. 73220544079.9399\n",
       "6. 51915631209.9373\n",
       "7. 39986348991.0125\n",
       "8. 29315907547.5549\n",
       "9. 23304564509.3112\n",
       "10. 19193582078.8646\n",
       "\n",
       "\n"
      ],
      "text/plain": [
       " [1] 1.539990e+12 2.949515e+11 1.829886e+11 1.035845e+11 7.322054e+10\n",
       " [6] 5.191563e+10 3.998635e+10 2.931591e+10 2.330456e+10 1.919358e+10"
      ]
     },
     "metadata": {},
     "output_type": "display_data"
    }
   ],
   "source": [
    "wss"
   ]
  },
  {
   "cell_type": "code",
   "execution_count": 14,
   "id": "d75fef0f-9527-432f-8067-b7675760d784",
   "metadata": {},
   "outputs": [
    {
     "data": {
      "image/png": "[encoded data removed]",
      "text/plain": [
       "plot without title"
      ]
     },
     "metadata": {
      "image/png": {
       "height": 420,
       "width": 420
      }
     },
     "output_type": "display_data"
    }
   ],
   "source": [
    "plot(1:10, wss, type = 'b',\n",
    "     xlab = 'Number of clusters',\n",
    "     ylab = 'WSS')"
   ]
  },
  {
   "cell_type": "markdown",
   "id": "aabd2aff-ece9-4128-9495-830ad819720d",
   "metadata": {},
   "source": [
    "- Chọn best k = 4"
   ]
  },
  {
   "cell_type": "code",
   "execution_count": 15,
   "id": "12ee3ed8-d30d-4d81-87eb-64221a50c4de",
   "metadata": {},
   "outputs": [
    {
     "name": "stdout",
     "output_type": "stream",
     "text": [
      "K-means clustering with 4 clusters of sizes 300, 197, 196, 307\n",
      "\n",
      "Cluster means:\n",
      "     income      age\n",
      "1 104182.84 38.66000\n",
      "2 133021.91 40.02030\n",
      "3  28072.64 39.31122\n",
      "4  55877.56 39.81433\n",
      "\n",
      "Clustering vector:\n",
      "   [1] 1 4 3 3 4 3 4 1 3 4 3 4 4 1 2 4 1 1 3 4 3 1 1 1 4 1 1 3 1 2 4 4 3 1 1 1 4\n",
      "  [38] 4 4 1 4 4 2 1 1 2 2 2 2 4 1 4 1 3 3 3 3 4 2 4 2 3 1 2 4 2 4 2 2 2 4 1 1 1\n",
      "  [75] 4 4 3 1 2 1 2 4 1 3 1 3 4 3 4 1 3 3 4 1 4 4 1 4 3 4 3 1 4 2 4 4 1 3 3 4 4\n",
      " [112] 1 1 3 2 4 1 2 4 3 2 4 1 4 3 4 2 3 4 1 2 4 4 2 1 4 2 4 2 3 3 3 3 1 3 1 1 1\n",
      " [149] 2 4 1 4 2 4 3 4 1 3 1 1 2 2 1 1 2 4 3 2 2 4 1 4 1 1 4 4 1 1 1 2 4 4 1 3 2\n",
      " [186] 2 1 1 1 2 1 4 3 4 4 4 2 1 2 4 1 4 3 4 4 1 1 3 3 4 4 4 1 2 4 4 1 4 2 3 1 1\n",
      " [223] 3 2 1 2 4 4 4 1 2 4 1 2 4 2 4 2 4 2 2 4 3 1 4 1 1 3 3 1 4 3 3 4 4 4 1 1 2\n",
      " [260] 2 1 3 1 1 3 1 2 4 1 4 4 2 4 1 1 2 4 3 2 1 1 2 4 2 2 1 4 4 4 4 4 4 2 2 4 1\n",
      " [297] 4 2 1 3 1 3 2 2 3 4 4 2 3 3 1 1 3 4 3 4 2 4 2 4 4 3 2 3 3 3 1 3 3 4 4 3 1\n",
      " [334] 2 4 4 3 4 2 1 3 2 2 3 3 3 2 3 3 3 1 4 2 1 1 1 4 2 1 3 1 1 1 4 2 1 3 1 4 1\n",
      " [371] 4 1 4 4 1 3 4 3 4 4 1 4 3 1 1 1 3 4 2 2 1 3 1 1 2 3 2 1 1 3 3 4 3 4 2 1 4\n",
      " [408] 1 1 3 3 1 3 4 3 1 2 3 4 4 1 2 4 1 4 4 3 2 2 4 2 3 4 2 3 3 3 4 1 3 1 2 1 1\n",
      " [445] 4 1 4 1 4 4 3 3 1 4 4 1 2 3 1 4 1 3 2 1 3 2 2 4 3 3 3 3 1 4 4 2 2 1 3 2 1\n",
      " [482] 2 1 1 4 1 4 4 4 4 4 2 4 4 2 1 4 1 1 2 4 3 1 4 3 1 2 2 3 2 4 2 3 1 1 2 2 4\n",
      " [519] 1 1 2 3 4 3 1 1 1 2 3 4 4 4 4 4 3 4 1 3 4 4 1 4 1 1 4 4 2 2 4 4 2 1 2 3 4\n",
      " [556] 1 3 1 4 1 1 4 2 2 1 3 1 2 1 4 4 2 4 2 4 4 3 4 1 4 1 1 1 3 2 1 3 3 1 4 2 2\n",
      " [593] 4 3 4 4 3 4 4 3 1 4 4 4 1 4 1 2 2 1 1 4 1 4 3 1 1 2 3 1 2 4 4 4 4 3 1 4 1\n",
      " [630] 1 1 4 1 1 4 1 1 4 1 4 3 4 1 3 1 4 4 3 1 1 4 2 1 1 4 1 4 2 1 4 4 1 3 4 2 4\n",
      " [667] 2 1 2 3 4 4 4 4 1 1 1 1 3 3 3 1 2 3 4 4 1 3 1 4 3 2 2 2 2 1 4 4 1 3 3 4 2\n",
      " [704] 1 2 1 1 1 1 4 3 4 1 2 4 4 2 3 2 2 4 1 1 1 4 4 2 1 3 1 2 4 1 1 2 1 4 2 2 1\n",
      " [741] 1 4 1 4 1 4 3 2 1 2 1 4 4 4 1 2 1 4 2 4 1 2 2 1 1 4 4 4 3 2 1 1 3 1 1 1 3\n",
      " [778] 4 3 1 1 3 3 4 1 2 1 1 4 2 1 2 2 4 2 1 3 3 4 3 4 1 2 1 3 4 3 1 3 1 2 1 2 2\n",
      " [815] 1 4 3 2 2 4 4 4 3 3 3 1 2 4 1 1 3 3 2 3 4 1 4 2 1 2 1 3 1 4 3 4 4 4 1 1 1\n",
      " [852] 4 4 4 4 4 2 1 2 4 4 4 4 4 2 4 1 2 1 2 2 3 3 1 3 4 1 2 2 3 4 4 2 2 4 3 1 4\n",
      " [889] 4 3 4 1 2 1 4 3 4 3 2 1 3 4 1 1 3 3 3 4 2 2 3 3 4 4 1 1 1 1 3 3 2 1 3 2 1\n",
      " [926] 2 2 4 2 1 4 3 1 1 1 4 4 1 2 1 2 1 1 4 2 1 2 1 3 3 2 3 4 1 1 2 1 4 2 4 4 1\n",
      " [963] 4 2 2 1 4 4 2 4 3 1 3 3 3 3 2 1 2 3 1 3 4 4 4 4 3 3 1 4 2 1 1 1 4 4 1 4 3\n",
      "[1000] 2\n",
      "\n",
      "Within cluster sum of squares by cluster:\n",
      "[1] 30794096627 21977204054 21757492953 29055723426\n",
      " (between_SS / total_SS =  93.3 %)\n",
      "\n",
      "Available components:\n",
      "\n",
      "[1] \"cluster\"      \"centers\"      \"totss\"        \"withinss\"     \"tot.withinss\"\n",
      "[6] \"betweenss\"    \"size\"         \"iter\"         \"ifault\"      \n"
     ]
    }
   ],
   "source": [
    "# Tìm kết quả => có bao nhiêu cụm => mẫu nào thuộc cụm nào?\n",
    "set.seed(20)\n",
    "dataCluster <- kmeans(data[, 1:2], centers = 4, nstart = 20)\n",
    "print(dataCluster)"
   ]
  },
  {
   "cell_type": "markdown",
   "id": "c83f1d82-4990-445a-802d-b4d1c96a1138",
   "metadata": {},
   "source": [
    "- Nhận xét: Áp dụng bài toán phân vùng này sẽ đạt được between_SS / total_SS =  93.3%"
   ]
  },
  {
   "cell_type": "code",
   "execution_count": 16,
   "id": "78d6ab62-f514-4ab0-8e7e-36ae89d7629f",
   "metadata": {},
   "outputs": [
    {
     "data": {
      "image/png": "[encoded data removed]",
      "text/plain": [
       "Plot with title \"Income vs Age\""
      ]
     },
     "metadata": {
      "image/png": {
       "height": 420,
       "width": 420
      }
     },
     "output_type": "display_data"
    }
   ],
   "source": [
    "# Vẽ hình (với mỗi cụm là một màu) => xem kết quả.\n",
    "dataCluster$cluster <- as.factor(dataCluster$cluster)\n",
    "plot(x = data$income, y = data$age,\n",
    "     xlab = 'Income',\n",
    "     ylab = 'Age',\n",
    "     main = 'Income vs Age', col = dataCluster$cluster, \n",
    "     pch = 15)"
   ]
  },
  {
   "cell_type": "code",
   "execution_count": 17,
   "id": "abaaa670-b9e4-4c32-9eca-f2ff58f4092d",
   "metadata": {},
   "outputs": [
    {
     "data": {
      "image/png": "[encoded data removed]",
      "text/plain": [
       "plot without title"
      ]
     },
     "metadata": {
      "image/png": {
       "height": 420,
       "width": 420
      }
     },
     "output_type": "display_data"
    }
   ],
   "source": [
    "fviz_cluster(dataCluster, geom = 'point', data = data[,1:2], stand=F) +\n",
    "ggtitle('k=4')"
   ]
  },
  {
   "cell_type": "markdown",
   "id": "2fec4b82-2328-4e96-bbfc-45533156e9a0",
   "metadata": {},
   "source": [
    "- Nhận xét: có 4 cụm được chia theo income. Cụm 1 từ 0 đến ~40000, cụm 2 từ 40000 đến ~80000, cụm 3 từ 80000 đến ~120000 và cụm 4 là trên 120000"
   ]
  },
  {
   "cell_type": "code",
   "execution_count": null,
   "id": "cdb1fafc-04b8-46cf-aa2b-d979d642065b",
   "metadata": {},
   "outputs": [],
   "source": []
  }
 ],
 "metadata": {
  "kernelspec": {
   "display_name": "R",
   "language": "R",
   "name": "ir"
  },
  "language_info": {
   "codemirror_mode": "r",
   "file_extension": ".r",
   "mimetype": "text/x-r-source",
   "name": "R",
   "pygments_lexer": "r",
   "version": "4.2.2"
  }
 },
 "nbformat": 4,
 "nbformat_minor": 5
}
